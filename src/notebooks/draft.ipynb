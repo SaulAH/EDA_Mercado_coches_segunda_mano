{
 "cells": [
  {
   "cell_type": "markdown",
   "metadata": {},
   "source": [
    "# Exploratory Data Analysis Guide\n",
    "\n",
    "![image](./img/data_preparation.jpg)\n",
    "\n",
    "En la plataforma de datos datamarket.es podemos encontrar los datos de los vehículos de segunda mano a la venta de las principales plataformas\n",
    "Los datos se han obtenido de la base de datos (https://datamarket.es/#coches-de-segunda-mano-dataset), en este caso se ha optado por coger una muestra de la base de datos total, ya que la base de datos de total no es de acceso público.\n",
    "\n",
    "En los últimos meses/años el mercado de vehliculos de segunda mano ha tenido ggran importancia debeido a la crisis de componene que ha azontado a la fabricación de nuevos vehliculos así como la incertidumbre creada sobre cual puede ser el combustible del futuro lo que hace dudar a la hora de comprar un vehículo. Por todo esto vamos a analizar el conjunto de datos de los vehículos de segunda mano a la venta con el fin de aclarar cual podría ser una buna compra.\n",
    "\n",
    "El conjunto de datos consta de marcas, modelos y versiones de gran cantidad de vehículos asi como potencia, kilometros, año, precio... de un segundo dataset se obtienen los datos de CO2 de cada vehículo para poder comparar el consumo.\n"
   ]
  },
  {
   "cell_type": "code",
   "execution_count": null,
   "metadata": {},
   "outputs": [],
   "source": []
  },
  {
   "cell_type": "code",
   "execution_count": null,
   "metadata": {},
   "outputs": [],
   "source": []
  },
  {
   "cell_type": "markdown",
   "metadata": {},
   "source": [
    "# Data Understanding"
   ]
  },
  {
   "cell_type": "markdown",
   "metadata": {},
   "source": [
    "### Importar librerias"
   ]
  },
  {
   "cell_type": "code",
   "execution_count": 1,
   "metadata": {},
   "outputs": [],
   "source": [
    "import numpy as np\n",
    "import pandas as pd\n",
    "import datetime as dt\n",
    "import os"
   ]
  },
  {
   "cell_type": "markdown",
   "metadata": {},
   "source": [
    "# Leer csv con datos"
   ]
  },
  {
   "cell_type": "code",
   "execution_count": 3,
   "metadata": {},
   "outputs": [],
   "source": [
    "ruta_ventas = f'coches-de-segunda-mano-sample.csv'\n",
    "df_ventas_raw = pd.read_csv(ruta_ventas)"
   ]
  },
  {
   "cell_type": "markdown",
   "metadata": {},
   "source": [
    "## Forma del dataframe"
   ]
  },
  {
   "cell_type": "code",
   "execution_count": 31,
   "metadata": {},
   "outputs": [
    {
     "data": {
      "text/plain": [
       "(50000, 21)"
      ]
     },
     "execution_count": 31,
     "metadata": {},
     "output_type": "execute_result"
    }
   ],
   "source": [
    "df_ventas_raw.shape"
   ]
  },
  {
   "cell_type": "markdown",
   "metadata": {},
   "source": [
    "## Primeros valores de los 2 dataFrame"
   ]
  },
  {
   "cell_type": "code",
   "execution_count": 33,
   "metadata": {},
   "outputs": [
    {
     "data": {
      "text/html": [
       "<div>\n",
       "<style scoped>\n",
       "    .dataframe tbody tr th:only-of-type {\n",
       "        vertical-align: middle;\n",
       "    }\n",
       "\n",
       "    .dataframe tbody tr th {\n",
       "        vertical-align: top;\n",
       "    }\n",
       "\n",
       "    .dataframe thead th {\n",
       "        text-align: right;\n",
       "    }\n",
       "</style>\n",
       "<table border=\"1\" class=\"dataframe\">\n",
       "  <thead>\n",
       "    <tr style=\"text-align: right;\">\n",
       "      <th></th>\n",
       "      <th>url</th>\n",
       "      <th>company</th>\n",
       "      <th>make</th>\n",
       "      <th>model</th>\n",
       "      <th>version</th>\n",
       "      <th>price</th>\n",
       "      <th>price_financed</th>\n",
       "      <th>fuel</th>\n",
       "      <th>year</th>\n",
       "      <th>kms</th>\n",
       "      <th>...</th>\n",
       "      <th>doors</th>\n",
       "      <th>shift</th>\n",
       "      <th>color</th>\n",
       "      <th>photos</th>\n",
       "      <th>is_professional</th>\n",
       "      <th>dealer</th>\n",
       "      <th>province</th>\n",
       "      <th>country</th>\n",
       "      <th>publish_date</th>\n",
       "      <th>insert_date</th>\n",
       "    </tr>\n",
       "  </thead>\n",
       "  <tbody>\n",
       "    <tr>\n",
       "      <th>0</th>\n",
       "      <td>e158ae0ca53119ca199c28c36b5c2fcd</td>\n",
       "      <td>9881bcdd5a0ad4733037b3fb25e69c3a</td>\n",
       "      <td>SEAT</td>\n",
       "      <td>Toledo</td>\n",
       "      <td>SEAT Toledo  4p.</td>\n",
       "      <td>950</td>\n",
       "      <td>NaN</td>\n",
       "      <td>Diésel</td>\n",
       "      <td>2000.0</td>\n",
       "      <td>227000</td>\n",
       "      <td>...</td>\n",
       "      <td>4</td>\n",
       "      <td>Manual</td>\n",
       "      <td>Verde</td>\n",
       "      <td>5</td>\n",
       "      <td>False</td>\n",
       "      <td>0f4bb8455d27349b8273109b66a847f3</td>\n",
       "      <td>Navarra</td>\n",
       "      <td>Spain</td>\n",
       "      <td>2020-12-18 10:47:13</td>\n",
       "      <td>2021-01-15 00:00:00</td>\n",
       "    </tr>\n",
       "    <tr>\n",
       "      <th>1</th>\n",
       "      <td>ff267ebb7e700246f47f84f3db660b4b</td>\n",
       "      <td>9881bcdd5a0ad4733037b3fb25e69c3a</td>\n",
       "      <td>CITROEN</td>\n",
       "      <td>C1</td>\n",
       "      <td>CITROEN C1 PureTech 60KW 82CV Feel 5p.</td>\n",
       "      <td>6200</td>\n",
       "      <td>NaN</td>\n",
       "      <td>Gasolina</td>\n",
       "      <td>2017.0</td>\n",
       "      <td>50071</td>\n",
       "      <td>...</td>\n",
       "      <td>5</td>\n",
       "      <td>Manual</td>\n",
       "      <td>Blanco</td>\n",
       "      <td>6</td>\n",
       "      <td>True</td>\n",
       "      <td>Autos Raymara</td>\n",
       "      <td>Tenerife</td>\n",
       "      <td>Spain</td>\n",
       "      <td>2021-01-02 11:25:40</td>\n",
       "      <td>2021-01-15 00:00:00</td>\n",
       "    </tr>\n",
       "    <tr>\n",
       "      <th>2</th>\n",
       "      <td>de4b02db28ea7786c622b969be10c7c7</td>\n",
       "      <td>9881bcdd5a0ad4733037b3fb25e69c3a</td>\n",
       "      <td>FORD</td>\n",
       "      <td>Transit Connect</td>\n",
       "      <td>FORD Transit Connect Van 1.5 TDCi 100cv Ambien...</td>\n",
       "      <td>7851</td>\n",
       "      <td>7024.0</td>\n",
       "      <td>Diésel</td>\n",
       "      <td>2016.0</td>\n",
       "      <td>103000</td>\n",
       "      <td>...</td>\n",
       "      <td>4</td>\n",
       "      <td>Manual</td>\n",
       "      <td>Blanco</td>\n",
       "      <td>10</td>\n",
       "      <td>True</td>\n",
       "      <td>Auto 96</td>\n",
       "      <td>Barcelona</td>\n",
       "      <td>Spain</td>\n",
       "      <td>2020-12-16 10:51:45</td>\n",
       "      <td>2021-01-15 00:00:00</td>\n",
       "    </tr>\n",
       "    <tr>\n",
       "      <th>3</th>\n",
       "      <td>0449972a4d07594acf92e9a7dd28b39c</td>\n",
       "      <td>9881bcdd5a0ad4733037b3fb25e69c3a</td>\n",
       "      <td>VOLKSWAGEN</td>\n",
       "      <td>Caravelle</td>\n",
       "      <td>VOLKSWAGEN Caravelle Largo 2.0 TDI 140 Comfort...</td>\n",
       "      <td>19426</td>\n",
       "      <td>NaN</td>\n",
       "      <td>Diésel</td>\n",
       "      <td>2014.0</td>\n",
       "      <td>120000</td>\n",
       "      <td>...</td>\n",
       "      <td>4</td>\n",
       "      <td>Manual</td>\n",
       "      <td>Blanco</td>\n",
       "      <td>9</td>\n",
       "      <td>True</td>\n",
       "      <td>Inniauto</td>\n",
       "      <td>Navarra</td>\n",
       "      <td>Spain</td>\n",
       "      <td>2020-11-25 11:09:14</td>\n",
       "      <td>2021-01-15 00:00:00</td>\n",
       "    </tr>\n",
       "    <tr>\n",
       "      <th>4</th>\n",
       "      <td>12c4fa49bd4fdf23f19ecf396d3f02ef</td>\n",
       "      <td>9881bcdd5a0ad4733037b3fb25e69c3a</td>\n",
       "      <td>FORD</td>\n",
       "      <td>Transit</td>\n",
       "      <td>FORD Transit 350 96kW L4 Ambiente Propulsion T...</td>\n",
       "      <td>22850</td>\n",
       "      <td>22800.0</td>\n",
       "      <td>Diésel</td>\n",
       "      <td>2017.0</td>\n",
       "      <td>107000</td>\n",
       "      <td>...</td>\n",
       "      <td>2</td>\n",
       "      <td>Manual</td>\n",
       "      <td>Blanco</td>\n",
       "      <td>4</td>\n",
       "      <td>True</td>\n",
       "      <td>Autofleet España,s.l</td>\n",
       "      <td>Sevilla</td>\n",
       "      <td>Spain</td>\n",
       "      <td>2021-01-12 20:00:34</td>\n",
       "      <td>2021-01-15 00:00:00</td>\n",
       "    </tr>\n",
       "  </tbody>\n",
       "</table>\n",
       "<p>5 rows × 21 columns</p>\n",
       "</div>"
      ],
      "text/plain": [
       "                                url                           company  \\\n",
       "0  e158ae0ca53119ca199c28c36b5c2fcd  9881bcdd5a0ad4733037b3fb25e69c3a   \n",
       "1  ff267ebb7e700246f47f84f3db660b4b  9881bcdd5a0ad4733037b3fb25e69c3a   \n",
       "2  de4b02db28ea7786c622b969be10c7c7  9881bcdd5a0ad4733037b3fb25e69c3a   \n",
       "3  0449972a4d07594acf92e9a7dd28b39c  9881bcdd5a0ad4733037b3fb25e69c3a   \n",
       "4  12c4fa49bd4fdf23f19ecf396d3f02ef  9881bcdd5a0ad4733037b3fb25e69c3a   \n",
       "\n",
       "         make            model  \\\n",
       "0        SEAT           Toledo   \n",
       "1     CITROEN               C1   \n",
       "2        FORD  Transit Connect   \n",
       "3  VOLKSWAGEN        Caravelle   \n",
       "4        FORD          Transit   \n",
       "\n",
       "                                             version  price  price_financed  \\\n",
       "0                                   SEAT Toledo  4p.    950             NaN   \n",
       "1             CITROEN C1 PureTech 60KW 82CV Feel 5p.   6200             NaN   \n",
       "2  FORD Transit Connect Van 1.5 TDCi 100cv Ambien...   7851          7024.0   \n",
       "3  VOLKSWAGEN Caravelle Largo 2.0 TDI 140 Comfort...  19426             NaN   \n",
       "4  FORD Transit 350 96kW L4 Ambiente Propulsion T...  22850         22800.0   \n",
       "\n",
       "       fuel    year     kms  ...  doors   shift   color photos  \\\n",
       "0    Diésel  2000.0  227000  ...      4  Manual   Verde      5   \n",
       "1  Gasolina  2017.0   50071  ...      5  Manual  Blanco      6   \n",
       "2    Diésel  2016.0  103000  ...      4  Manual  Blanco     10   \n",
       "3    Diésel  2014.0  120000  ...      4  Manual  Blanco      9   \n",
       "4    Diésel  2017.0  107000  ...      2  Manual  Blanco      4   \n",
       "\n",
       "   is_professional                            dealer   province country  \\\n",
       "0            False  0f4bb8455d27349b8273109b66a847f3    Navarra   Spain   \n",
       "1             True                     Autos Raymara   Tenerife   Spain   \n",
       "2             True                           Auto 96  Barcelona   Spain   \n",
       "3             True                          Inniauto    Navarra   Spain   \n",
       "4             True              Autofleet España,s.l    Sevilla   Spain   \n",
       "\n",
       "          publish_date          insert_date  \n",
       "0  2020-12-18 10:47:13  2021-01-15 00:00:00  \n",
       "1  2021-01-02 11:25:40  2021-01-15 00:00:00  \n",
       "2  2020-12-16 10:51:45  2021-01-15 00:00:00  \n",
       "3  2020-11-25 11:09:14  2021-01-15 00:00:00  \n",
       "4  2021-01-12 20:00:34  2021-01-15 00:00:00  \n",
       "\n",
       "[5 rows x 21 columns]"
      ]
     },
     "execution_count": 33,
     "metadata": {},
     "output_type": "execute_result"
    }
   ],
   "source": [
    "df_ventas_raw.head()"
   ]
  },
  {
   "cell_type": "markdown",
   "metadata": {},
   "source": [
    "## Mostrar valores aleatorios de los dataframe"
   ]
  },
  {
   "cell_type": "code",
   "execution_count": 35,
   "metadata": {},
   "outputs": [
    {
     "data": {
      "text/html": [
       "<div>\n",
       "<style scoped>\n",
       "    .dataframe tbody tr th:only-of-type {\n",
       "        vertical-align: middle;\n",
       "    }\n",
       "\n",
       "    .dataframe tbody tr th {\n",
       "        vertical-align: top;\n",
       "    }\n",
       "\n",
       "    .dataframe thead th {\n",
       "        text-align: right;\n",
       "    }\n",
       "</style>\n",
       "<table border=\"1\" class=\"dataframe\">\n",
       "  <thead>\n",
       "    <tr style=\"text-align: right;\">\n",
       "      <th></th>\n",
       "      <th>url</th>\n",
       "      <th>company</th>\n",
       "      <th>make</th>\n",
       "      <th>model</th>\n",
       "      <th>version</th>\n",
       "      <th>price</th>\n",
       "      <th>price_financed</th>\n",
       "      <th>fuel</th>\n",
       "      <th>year</th>\n",
       "      <th>kms</th>\n",
       "      <th>...</th>\n",
       "      <th>doors</th>\n",
       "      <th>shift</th>\n",
       "      <th>color</th>\n",
       "      <th>photos</th>\n",
       "      <th>is_professional</th>\n",
       "      <th>dealer</th>\n",
       "      <th>province</th>\n",
       "      <th>country</th>\n",
       "      <th>publish_date</th>\n",
       "      <th>insert_date</th>\n",
       "    </tr>\n",
       "  </thead>\n",
       "  <tbody>\n",
       "    <tr>\n",
       "      <th>10920</th>\n",
       "      <td>091ec1e8cf76a761aac04c6f6c666558</td>\n",
       "      <td>9881bcdd5a0ad4733037b3fb25e69c3a</td>\n",
       "      <td>VOLKSWAGEN</td>\n",
       "      <td>Golf</td>\n",
       "      <td>VOLKSWAGEN Golf Sport 1.5 TSI EVO 110kW 150CV 5p.</td>\n",
       "      <td>22500</td>\n",
       "      <td>20500.0</td>\n",
       "      <td>Gasolina</td>\n",
       "      <td>2017.0</td>\n",
       "      <td>59700</td>\n",
       "      <td>...</td>\n",
       "      <td>5</td>\n",
       "      <td>Manual</td>\n",
       "      <td>6T6T Amarillo CÃºrcuma (metalizado)</td>\n",
       "      <td>13</td>\n",
       "      <td>True</td>\n",
       "      <td>Parte Automóviles Volkswagen</td>\n",
       "      <td>Cantabria</td>\n",
       "      <td>Spain</td>\n",
       "      <td>2021-01-14 19:44:41</td>\n",
       "      <td>2021-01-15 00:00:00</td>\n",
       "    </tr>\n",
       "    <tr>\n",
       "      <th>13563</th>\n",
       "      <td>bd0371719b14ad7a6d23290e3a9207eb</td>\n",
       "      <td>9881bcdd5a0ad4733037b3fb25e69c3a</td>\n",
       "      <td>CITROEN</td>\n",
       "      <td>C5</td>\n",
       "      <td>CITROEN C5  5p.</td>\n",
       "      <td>2000</td>\n",
       "      <td>NaN</td>\n",
       "      <td>Diésel</td>\n",
       "      <td>2003.0</td>\n",
       "      <td>166000</td>\n",
       "      <td>...</td>\n",
       "      <td>5</td>\n",
       "      <td>Manual</td>\n",
       "      <td>Azul</td>\n",
       "      <td>9</td>\n",
       "      <td>False</td>\n",
       "      <td>d41d8cd98f00b204e9800998ecf8427e</td>\n",
       "      <td>Jaén</td>\n",
       "      <td>Spain</td>\n",
       "      <td>2020-12-24 10:15:49</td>\n",
       "      <td>2021-01-15 00:00:00</td>\n",
       "    </tr>\n",
       "    <tr>\n",
       "      <th>47004</th>\n",
       "      <td>a651aac22d49f29d5c3d18377563cba7</td>\n",
       "      <td>9881bcdd5a0ad4733037b3fb25e69c3a</td>\n",
       "      <td>FIAT</td>\n",
       "      <td>Tipo</td>\n",
       "      <td>FIAT Tipo 1.3 16v Lounge 95 CV diesel Multijet...</td>\n",
       "      <td>8000</td>\n",
       "      <td>NaN</td>\n",
       "      <td>Diésel</td>\n",
       "      <td>2016.0</td>\n",
       "      <td>80000</td>\n",
       "      <td>...</td>\n",
       "      <td>4</td>\n",
       "      <td>Manual</td>\n",
       "      <td>Gris / Plata</td>\n",
       "      <td>14</td>\n",
       "      <td>False</td>\n",
       "      <td>4d186321c1a7f0f354b297e8914ab240</td>\n",
       "      <td>A Coruña</td>\n",
       "      <td>Spain</td>\n",
       "      <td>2021-01-06 20:05:45</td>\n",
       "      <td>2021-01-15 00:00:00</td>\n",
       "    </tr>\n",
       "    <tr>\n",
       "      <th>15285</th>\n",
       "      <td>3044d871f036568bbe72e43ec0b5eecc</td>\n",
       "      <td>9881bcdd5a0ad4733037b3fb25e69c3a</td>\n",
       "      <td>CITROEN</td>\n",
       "      <td>C3</td>\n",
       "      <td>CITROEN C3 BlueHDi 75KW 100CV SS Live Pack 5p.</td>\n",
       "      <td>14999</td>\n",
       "      <td>11999.0</td>\n",
       "      <td>Diésel</td>\n",
       "      <td>2020.0</td>\n",
       "      <td>8</td>\n",
       "      <td>...</td>\n",
       "      <td>5</td>\n",
       "      <td>Manual</td>\n",
       "      <td>Blanco</td>\n",
       "      <td>24</td>\n",
       "      <td>True</td>\n",
       "      <td>Antón Automoción</td>\n",
       "      <td>Vizcaya</td>\n",
       "      <td>Spain</td>\n",
       "      <td>2021-01-11 05:27:00</td>\n",
       "      <td>2021-01-15 00:00:00</td>\n",
       "    </tr>\n",
       "    <tr>\n",
       "      <th>23816</th>\n",
       "      <td>1195311253e179eb3899250e0efb3be6</td>\n",
       "      <td>9881bcdd5a0ad4733037b3fb25e69c3a</td>\n",
       "      <td>SUBARU</td>\n",
       "      <td>XV</td>\n",
       "      <td>SUBARU XV 1.6i Executive Plus Auto 5p.</td>\n",
       "      <td>27300</td>\n",
       "      <td>NaN</td>\n",
       "      <td>Gasolina</td>\n",
       "      <td>2020.0</td>\n",
       "      <td>4800</td>\n",
       "      <td>...</td>\n",
       "      <td>5</td>\n",
       "      <td>Automático</td>\n",
       "      <td>Azul (Dark Blue Pearl)</td>\n",
       "      <td>5</td>\n",
       "      <td>True</td>\n",
       "      <td>Quality Center</td>\n",
       "      <td>Baleares</td>\n",
       "      <td>Spain</td>\n",
       "      <td>2021-01-11 16:56:40</td>\n",
       "      <td>2021-01-15 00:00:00</td>\n",
       "    </tr>\n",
       "  </tbody>\n",
       "</table>\n",
       "<p>5 rows × 21 columns</p>\n",
       "</div>"
      ],
      "text/plain": [
       "                                    url                           company  \\\n",
       "10920  091ec1e8cf76a761aac04c6f6c666558  9881bcdd5a0ad4733037b3fb25e69c3a   \n",
       "13563  bd0371719b14ad7a6d23290e3a9207eb  9881bcdd5a0ad4733037b3fb25e69c3a   \n",
       "47004  a651aac22d49f29d5c3d18377563cba7  9881bcdd5a0ad4733037b3fb25e69c3a   \n",
       "15285  3044d871f036568bbe72e43ec0b5eecc  9881bcdd5a0ad4733037b3fb25e69c3a   \n",
       "23816  1195311253e179eb3899250e0efb3be6  9881bcdd5a0ad4733037b3fb25e69c3a   \n",
       "\n",
       "             make model                                            version  \\\n",
       "10920  VOLKSWAGEN  Golf  VOLKSWAGEN Golf Sport 1.5 TSI EVO 110kW 150CV 5p.   \n",
       "13563     CITROEN    C5                                    CITROEN C5  5p.   \n",
       "47004        FIAT  Tipo  FIAT Tipo 1.3 16v Lounge 95 CV diesel Multijet...   \n",
       "15285     CITROEN    C3     CITROEN C3 BlueHDi 75KW 100CV SS Live Pack 5p.   \n",
       "23816      SUBARU    XV             SUBARU XV 1.6i Executive Plus Auto 5p.   \n",
       "\n",
       "       price  price_financed      fuel    year     kms  ...  doors  \\\n",
       "10920  22500         20500.0  Gasolina  2017.0   59700  ...      5   \n",
       "13563   2000             NaN    Diésel  2003.0  166000  ...      5   \n",
       "47004   8000             NaN    Diésel  2016.0   80000  ...      4   \n",
       "15285  14999         11999.0    Diésel  2020.0       8  ...      5   \n",
       "23816  27300             NaN  Gasolina  2020.0    4800  ...      5   \n",
       "\n",
       "            shift                                color photos  \\\n",
       "10920      Manual  6T6T Amarillo CÃºrcuma (metalizado)     13   \n",
       "13563      Manual                                 Azul      9   \n",
       "47004      Manual                         Gris / Plata     14   \n",
       "15285      Manual                               Blanco     24   \n",
       "23816  Automático               Azul (Dark Blue Pearl)      5   \n",
       "\n",
       "       is_professional                            dealer   province country  \\\n",
       "10920             True      Parte Automóviles Volkswagen  Cantabria   Spain   \n",
       "13563            False  d41d8cd98f00b204e9800998ecf8427e       Jaén   Spain   \n",
       "47004            False  4d186321c1a7f0f354b297e8914ab240   A Coruña   Spain   \n",
       "15285             True                  Antón Automoción    Vizcaya   Spain   \n",
       "23816             True                    Quality Center   Baleares   Spain   \n",
       "\n",
       "              publish_date          insert_date  \n",
       "10920  2021-01-14 19:44:41  2021-01-15 00:00:00  \n",
       "13563  2020-12-24 10:15:49  2021-01-15 00:00:00  \n",
       "47004  2021-01-06 20:05:45  2021-01-15 00:00:00  \n",
       "15285  2021-01-11 05:27:00  2021-01-15 00:00:00  \n",
       "23816  2021-01-11 16:56:40  2021-01-15 00:00:00  \n",
       "\n",
       "[5 rows x 21 columns]"
      ]
     },
     "execution_count": 35,
     "metadata": {},
     "output_type": "execute_result"
    }
   ],
   "source": [
    "df_ventas_raw.sample(5)"
   ]
  },
  {
   "cell_type": "markdown",
   "metadata": {},
   "source": [
    "## Nombre las columnas de los dataframe"
   ]
  },
  {
   "cell_type": "code",
   "execution_count": 37,
   "metadata": {},
   "outputs": [
    {
     "data": {
      "text/plain": [
       "Index(['url', 'company', 'make', 'model', 'version', 'price', 'price_financed',\n",
       "       'fuel', 'year', 'kms', 'power', 'doors', 'shift', 'color', 'photos',\n",
       "       'is_professional', 'dealer', 'province', 'country', 'publish_date',\n",
       "       'insert_date'],\n",
       "      dtype='object')"
      ]
     },
     "execution_count": 37,
     "metadata": {},
     "output_type": "execute_result"
    }
   ],
   "source": [
    "df_ventas_raw.columns"
   ]
  },
  {
   "cell_type": "markdown",
   "metadata": {},
   "source": [
    "## Copia de seguridad"
   ]
  },
  {
   "cell_type": "markdown",
   "metadata": {},
   "source": [
    "## Comprobar si está vacío"
   ]
  },
  {
   "cell_type": "code",
   "execution_count": 41,
   "metadata": {},
   "outputs": [
    {
     "data": {
      "text/plain": [
       "False"
      ]
     },
     "execution_count": 41,
     "metadata": {},
     "output_type": "execute_result"
    }
   ],
   "source": [
    "df_ventas_raw.empty"
   ]
  },
  {
   "cell_type": "markdown",
   "metadata": {},
   "source": [
    "# Tipos de datos"
   ]
  },
  {
   "cell_type": "code",
   "execution_count": 43,
   "metadata": {},
   "outputs": [
    {
     "data": {
      "text/plain": [
       "url                 object\n",
       "company             object\n",
       "make                object\n",
       "model               object\n",
       "version             object\n",
       "price                int64\n",
       "price_financed     float64\n",
       "fuel                object\n",
       "year               float64\n",
       "kms                  int64\n",
       "power              float64\n",
       "doors                int64\n",
       "shift               object\n",
       "color               object\n",
       "photos               int64\n",
       "is_professional       bool\n",
       "dealer              object\n",
       "province            object\n",
       "country             object\n",
       "publish_date        object\n",
       "insert_date         object\n",
       "dtype: object"
      ]
     },
     "execution_count": 43,
     "metadata": {},
     "output_type": "execute_result"
    }
   ],
   "source": [
    "df_ventas_raw.dtypes"
   ]
  },
  {
   "cell_type": "markdown",
   "metadata": {},
   "source": [
    "**descripción de cada variable**"
   ]
  },
  {
   "cell_type": "markdown",
   "metadata": {},
   "source": [
    "# Información estadistica de los datos numéricos"
   ]
  },
  {
   "cell_type": "code",
   "execution_count": 44,
   "metadata": {},
   "outputs": [
    {
     "data": {
      "text/html": [
       "<div>\n",
       "<style scoped>\n",
       "    .dataframe tbody tr th:only-of-type {\n",
       "        vertical-align: middle;\n",
       "    }\n",
       "\n",
       "    .dataframe tbody tr th {\n",
       "        vertical-align: top;\n",
       "    }\n",
       "\n",
       "    .dataframe thead th {\n",
       "        text-align: right;\n",
       "    }\n",
       "</style>\n",
       "<table border=\"1\" class=\"dataframe\">\n",
       "  <thead>\n",
       "    <tr style=\"text-align: right;\">\n",
       "      <th></th>\n",
       "      <th>price</th>\n",
       "      <th>price_financed</th>\n",
       "      <th>year</th>\n",
       "      <th>kms</th>\n",
       "      <th>power</th>\n",
       "      <th>doors</th>\n",
       "      <th>photos</th>\n",
       "    </tr>\n",
       "  </thead>\n",
       "  <tbody>\n",
       "    <tr>\n",
       "      <th>count</th>\n",
       "      <td>50000.000000</td>\n",
       "      <td>23563.000000</td>\n",
       "      <td>49998.000000</td>\n",
       "      <td>5.000000e+04</td>\n",
       "      <td>41472.000000</td>\n",
       "      <td>50000.000000</td>\n",
       "      <td>50000.000000</td>\n",
       "    </tr>\n",
       "    <tr>\n",
       "      <th>mean</th>\n",
       "      <td>15166.270260</td>\n",
       "      <td>18480.029283</td>\n",
       "      <td>2012.311032</td>\n",
       "      <td>1.163591e+05</td>\n",
       "      <td>146.396388</td>\n",
       "      <td>4.505380</td>\n",
       "      <td>16.199120</td>\n",
       "    </tr>\n",
       "    <tr>\n",
       "      <th>std</th>\n",
       "      <td>16485.669747</td>\n",
       "      <td>13389.800738</td>\n",
       "      <td>6.677760</td>\n",
       "      <td>1.072921e+05</td>\n",
       "      <td>71.283964</td>\n",
       "      <td>0.868001</td>\n",
       "      <td>12.422882</td>\n",
       "    </tr>\n",
       "    <tr>\n",
       "      <th>min</th>\n",
       "      <td>300.000000</td>\n",
       "      <td>700.000000</td>\n",
       "      <td>1970.000000</td>\n",
       "      <td>0.000000e+00</td>\n",
       "      <td>29.000000</td>\n",
       "      <td>2.000000</td>\n",
       "      <td>0.000000</td>\n",
       "    </tr>\n",
       "    <tr>\n",
       "      <th>25%</th>\n",
       "      <td>5500.000000</td>\n",
       "      <td>10790.000000</td>\n",
       "      <td>2007.000000</td>\n",
       "      <td>3.830000e+04</td>\n",
       "      <td>109.000000</td>\n",
       "      <td>4.000000</td>\n",
       "      <td>7.000000</td>\n",
       "    </tr>\n",
       "    <tr>\n",
       "      <th>50%</th>\n",
       "      <td>11750.000000</td>\n",
       "      <td>15500.000000</td>\n",
       "      <td>2015.000000</td>\n",
       "      <td>9.999900e+04</td>\n",
       "      <td>130.000000</td>\n",
       "      <td>5.000000</td>\n",
       "      <td>13.000000</td>\n",
       "    </tr>\n",
       "    <tr>\n",
       "      <th>75%</th>\n",
       "      <td>19800.000000</td>\n",
       "      <td>21995.000000</td>\n",
       "      <td>2018.000000</td>\n",
       "      <td>1.749000e+05</td>\n",
       "      <td>163.000000</td>\n",
       "      <td>5.000000</td>\n",
       "      <td>23.000000</td>\n",
       "    </tr>\n",
       "    <tr>\n",
       "      <th>max</th>\n",
       "      <td>549900.000000</td>\n",
       "      <td>428999.000000</td>\n",
       "      <td>2021.000000</td>\n",
       "      <td>5.000000e+06</td>\n",
       "      <td>800.000000</td>\n",
       "      <td>5.000000</td>\n",
       "      <td>54.000000</td>\n",
       "    </tr>\n",
       "  </tbody>\n",
       "</table>\n",
       "</div>"
      ],
      "text/plain": [
       "               price  price_financed          year           kms  \\\n",
       "count   50000.000000    23563.000000  49998.000000  5.000000e+04   \n",
       "mean    15166.270260    18480.029283   2012.311032  1.163591e+05   \n",
       "std     16485.669747    13389.800738      6.677760  1.072921e+05   \n",
       "min       300.000000      700.000000   1970.000000  0.000000e+00   \n",
       "25%      5500.000000    10790.000000   2007.000000  3.830000e+04   \n",
       "50%     11750.000000    15500.000000   2015.000000  9.999900e+04   \n",
       "75%     19800.000000    21995.000000   2018.000000  1.749000e+05   \n",
       "max    549900.000000   428999.000000   2021.000000  5.000000e+06   \n",
       "\n",
       "              power         doors        photos  \n",
       "count  41472.000000  50000.000000  50000.000000  \n",
       "mean     146.396388      4.505380     16.199120  \n",
       "std       71.283964      0.868001     12.422882  \n",
       "min       29.000000      2.000000      0.000000  \n",
       "25%      109.000000      4.000000      7.000000  \n",
       "50%      130.000000      5.000000     13.000000  \n",
       "75%      163.000000      5.000000     23.000000  \n",
       "max      800.000000      5.000000     54.000000  "
      ]
     },
     "execution_count": 44,
     "metadata": {},
     "output_type": "execute_result"
    }
   ],
   "source": [
    "df_ventas_raw.describe()"
   ]
  },
  {
   "cell_type": "markdown",
   "metadata": {},
   "source": [
    "# Contar valores únicos"
   ]
  },
  {
   "cell_type": "code",
   "execution_count": 46,
   "metadata": {},
   "outputs": [
    {
     "data": {
      "text/plain": [
       "52"
      ]
     },
     "execution_count": 46,
     "metadata": {},
     "output_type": "execute_result"
    }
   ],
   "source": [
    "# Número de provincias\n",
    "df_ventas_raw.province.nunique()"
   ]
  },
  {
   "cell_type": "code",
   "execution_count": 47,
   "metadata": {},
   "outputs": [
    {
     "data": {
      "text/plain": [
       "75"
      ]
     },
     "execution_count": 47,
     "metadata": {},
     "output_type": "execute_result"
    }
   ],
   "source": [
    "# Numero de fabricantes\n",
    "df_ventas_raw.make.nunique()"
   ]
  },
  {
   "cell_type": "markdown",
   "metadata": {},
   "source": [
    "# Listar las provincias"
   ]
  },
  {
   "cell_type": "code",
   "execution_count": 48,
   "metadata": {},
   "outputs": [],
   "source": [
    "provincias = df_ventas_raw.province.unique()"
   ]
  },
  {
   "cell_type": "code",
   "execution_count": 49,
   "metadata": {},
   "outputs": [
    {
     "data": {
      "text/plain": [
       "array(['Navarra', 'Tenerife', 'Barcelona', 'Sevilla', 'Madrid',\n",
       "       'Baleares', 'Alicante', 'Murcia', 'Guipúzcoa', 'Málaga', 'Jaén',\n",
       "       'Las Palmas', 'Granada', 'Lugo', 'Huelva', 'Asturias',\n",
       "       'Pontevedra', 'Córdoba', 'Zaragoza', 'León', 'A Coruña',\n",
       "       'Cantabria', 'Toledo', 'Vizcaya', 'Burgos', 'Lleida', 'Almería',\n",
       "       'Badajoz', 'Álava', 'Valencia', 'Cádiz', 'La Rioja', 'Girona',\n",
       "       'Ciudad Real', 'Ávila', 'Tarragona', 'Orense', 'Segovia',\n",
       "       'Cáceres', 'Cuenca', 'Albacete', 'Castellón', 'Guadalajara',\n",
       "       'Huesca', 'Teruel', 'Valladolid', 'Salamanca', 'Soria', 'Palencia',\n",
       "       'Zamora', 'Ceuta', nan, 'Melilla'], dtype=object)"
      ]
     },
     "execution_count": 49,
     "metadata": {},
     "output_type": "execute_result"
    }
   ],
   "source": [
    "provincias"
   ]
  },
  {
   "cell_type": "markdown",
   "metadata": {},
   "source": [
    "# Comunidades Autónomas"
   ]
  },
  {
   "cell_type": "code",
   "execution_count": 87,
   "metadata": {},
   "outputs": [],
   "source": [
    "def comunidades_autonomas(x):\n",
    "    galicia = ['A Coruña','Lugo','Pontevedra','Orense']\n",
    "    asturias =['Asturias']\n",
    "    cantabria = ['Cantabria']\n",
    "    pais_vasco = ['Vizcaya','Guipúzcoa','Álava']\n",
    "    navarra = ['Navarra']\n",
    "    la_rioja = ['La Rioja']\n",
    "    aragon = ['Huesca','Zaragoza','Teruel']\n",
    "    catalunya = ['Lleida','Girona','Barcelona','Tarragona']\n",
    "    castilla_y_leon = ['León','Palencia','Burgos','Zamora','Valladolid',\n",
    "                        'Soria','Salamanca','Ávila','Segovia']\n",
    "    extremadura = ['Badajoz','Cáceres']\n",
    "    madrid = ['Madrid']\n",
    "    castilla_la_mancha = ['Guadalajara','Cuenca','Albacete','Ciudad Real',\n",
    "                        'Toledo']\n",
    "    valencia = ['Castellón','Valencia','Alicante']\n",
    "    baleares = ['Baleares']\n",
    "    murcia = ['Murcia']\n",
    "    andalucia = ['Huelva','Sevilla','Jaén','Granada','Almería',\n",
    "                    'Córdoba','Málaga','Cádiz']\n",
    "    canarias = ['Las Palmas','Tenerife']\n",
    "    ceuta = ['Ceuta']\n",
    "    melilla = ['Melilla']\n",
    "    if x in galicia:\n",
    "        comunidad = 'Galicia'\n",
    "    elif x in asturias:\n",
    "        comunidad = 'Principado_de_Asturias'\n",
    "    elif x in cantabria:\n",
    "        comunidad = 'Cantabria'\n",
    "    elif x in pais_vasco:\n",
    "        comunidad = 'País_Vasco'\n",
    "    elif x in navarra:\n",
    "        comunidad = 'Navarra'\n",
    "    elif x in la_rioja:\n",
    "        comunidad = 'La_Rioja'\n",
    "    elif x in aragon:\n",
    "        comunidad = 'Aragón'\n",
    "    elif x in catalunya:\n",
    "        comunidad = 'Catalunya'\n",
    "    elif x in castilla_y_leon:\n",
    "        comunidad = 'Castilla_y_León'\n",
    "    elif x in extremadura:\n",
    "        comunidad = 'Extremadura'\n",
    "    elif x in madrid:\n",
    "        comunidad = 'Comunidad_de_Madrid'\n",
    "    elif x in castilla_la_mancha:\n",
    "        comunidad = 'Castilla_La_Mancha'\n",
    "    elif x in valencia:\n",
    "        comunidad = 'Comunidad_Valenciana'\n",
    "    elif x in baleares:\n",
    "        comunidad = 'Islas_Baleares'\n",
    "    elif x in murcia:\n",
    "        comunidad = 'Región_de_Murcia'\n",
    "    elif x in andalucia:\n",
    "        comunidad = 'Andalucía'\n",
    "    elif x in canarias:\n",
    "        comunidad = 'Canarias'\n",
    "    elif x in ceuta:\n",
    "        comunidad = 'Ceuta'\n",
    "    elif x in melilla:\n",
    "        comunidad = 'Melilla'\n",
    "    else:\n",
    "        comunidad = 'Desconocida'\n",
    "    return comunidad\n"
   ]
  },
  {
   "cell_type": "code",
   "execution_count": 89,
   "metadata": {},
   "outputs": [],
   "source": [
    "df_ventas_raw['Comunidad_Autonoma']=df_ventas_raw['province'].apply(comunidades_autonomas) # Creo la columna Comunidad autonoma"
   ]
  },
  {
   "cell_type": "code",
   "execution_count": 90,
   "metadata": {},
   "outputs": [
    {
     "data": {
      "text/plain": [
       "4657     NaN\n",
       "5010     NaN\n",
       "10770    NaN\n",
       "14163    NaN\n",
       "18125    NaN\n",
       "32024    NaN\n",
       "Name: province, dtype: object"
      ]
     },
     "execution_count": 90,
     "metadata": {},
     "output_type": "execute_result"
    }
   ],
   "source": [
    "#Compruebo que solo me aparecen como desconocidas las Comunnidades con provincias NaN\n",
    "df_ventas_raw.province[df_ventas_raw.Comunidad_Autonoma == 'Desconocida']"
   ]
  },
  {
   "cell_type": "code",
   "execution_count": 94,
   "metadata": {},
   "outputs": [
    {
     "data": {
      "text/plain": [
       "Index(['url', 'company', 'make', 'model', 'version', 'price', 'price_financed',\n",
       "       'fuel', 'year', 'kms', 'power', 'doors', 'shift', 'color', 'photos',\n",
       "       'is_professional', 'dealer', 'province', 'country', 'publish_date',\n",
       "       'insert_date', 'Comunidad_Autonoma'],\n",
       "      dtype='object')"
      ]
     },
     "execution_count": 94,
     "metadata": {},
     "output_type": "execute_result"
    }
   ],
   "source": [
    "df_ventas_raw.columns"
   ]
  },
  {
   "cell_type": "markdown",
   "metadata": {},
   "source": [
    "## Borro las columnas que no me hacen falta en el df de venta "
   ]
  },
  {
   "cell_type": "code",
   "execution_count": 98,
   "metadata": {},
   "outputs": [],
   "source": [
    "Columnas_borrar_ventas = ['url','company','doors','color','photos','country','publish_date','insert_date']"
   ]
  },
  {
   "cell_type": "code",
   "execution_count": 101,
   "metadata": {},
   "outputs": [],
   "source": [
    "df_ventas_raw.drop(columns=Columnas_borrar_ventas, inplace=True)"
   ]
  },
  {
   "cell_type": "code",
   "execution_count": 102,
   "metadata": {},
   "outputs": [
    {
     "data": {
      "text/plain": [
       "Index(['make', 'model', 'version', 'price', 'price_financed', 'fuel', 'year',\n",
       "       'kms', 'power', 'shift', 'is_professional', 'dealer', 'province',\n",
       "       'Comunidad_Autonoma'],\n",
       "      dtype='object')"
      ]
     },
     "execution_count": 102,
     "metadata": {},
     "output_type": "execute_result"
    }
   ],
   "source": [
    "df_ventas_raw.columns"
   ]
  },
  {
   "cell_type": "markdown",
   "metadata": {},
   "source": [
    "## Renombro las columnas del csv de ventas"
   ]
  },
  {
   "cell_type": "code",
   "execution_count": 103,
   "metadata": {},
   "outputs": [],
   "source": [
    "renombrar_ventas = {'make':'Marca',\n",
    "            'model':'Modelo',\n",
    "            'version':'Version',\n",
    "            'price':'Precio',\n",
    "            'price_financed':'Precio_financiado',\n",
    "            'fuel':'Combustible',\n",
    "            'year':'Anyo',\n",
    "            'kms':'Kilometros',\n",
    "            'power':'Potencia',\n",
    "            'shift':'tipo_cambio',\n",
    "            'is_professional':'Vendedor_profesional',\n",
    "            'dealer':'Vendedor',\n",
    "            'province':'Provincia',\n",
    "            'Comunidad_Autonoma':'Comunidad_Autonoma'}"
   ]
  },
  {
   "cell_type": "code",
   "execution_count": 106,
   "metadata": {},
   "outputs": [],
   "source": [
    "df_ventas_raw.rename(columns=renombrar_ventas, inplace=True) "
   ]
  },
  {
   "cell_type": "code",
   "execution_count": 128,
   "metadata": {},
   "outputs": [
    {
     "data": {
      "text/plain": [
       "Index(['Marca', 'Modelo', 'Version', 'Precio', 'Precio_financiado',\n",
       "       'Combustible', 'Anyo', 'Kilometros', 'Potencia', 'tipo_cambio',\n",
       "       'Vendedor_profesional', 'Vendedor', 'Provincia', 'Comunidad_Autonoma'],\n",
       "      dtype='object')"
      ]
     },
     "execution_count": 128,
     "metadata": {},
     "output_type": "execute_result"
    }
   ],
   "source": [
    "df_ventas_raw.columns"
   ]
  },
  {
   "cell_type": "markdown",
   "metadata": {},
   "source": [
    "# Guardo los csv con el primer filtro de columnas"
   ]
  },
  {
   "cell_type": "code",
   "execution_count": 130,
   "metadata": {},
   "outputs": [],
   "source": [
    "df_ventas_raw.to_pickle('df_ventas.pkl')"
   ]
  }
 ],
 "metadata": {
  "interpreter": {
   "hash": "77bc8dc5fbfbbd2cda0b1e50788f0ff9f3bcbc233111ac72cacb020bfce80ecb"
  },
  "kernelspec": {
   "display_name": "Python 3.9.5 ('the_bridge_22')",
   "language": "python",
   "name": "python3"
  },
  "language_info": {
   "codemirror_mode": {
    "name": "ipython",
    "version": 3
   },
   "file_extension": ".py",
   "mimetype": "text/x-python",
   "name": "python",
   "nbconvert_exporter": "python",
   "pygments_lexer": "ipython3",
   "version": "3.9.5"
  },
  "orig_nbformat": 4
 },
 "nbformat": 4,
 "nbformat_minor": 2
}
